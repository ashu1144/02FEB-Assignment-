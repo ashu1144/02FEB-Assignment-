{
 "cells": [
  {
   "cell_type": "code",
   "execution_count": null,
   "id": "4350cca7-a0b7-4f5d-9658-9baf79cd6bfc",
   "metadata": {},
   "outputs": [],
   "source": [
    "#Q1 Explain with an example each when to use a for loop and a while loop.\n",
    "while True:#HERE WE DONT KNOW THE ENDING POINT. loop will run until the given conndtion become false \n",
    "    num=input(\"enter your phone number \")\n",
    "    if num.isnumeric() and len(num)==10:\n",
    "        print(\"YOUR NUMBER HAS BEEN REGISTERED \")\n",
    "        break\n",
    "    else:\n",
    "        print(\"Try again\")"
   ]
  },
  {
   "cell_type": "code",
   "execution_count": 1,
   "id": "0340ae84-0013-4e1d-96ac-baf091202946",
   "metadata": {},
   "outputs": [
    {
     "name": "stdin",
     "output_type": "stream",
     "text": [
      "enter your phone number  8\n"
     ]
    },
    {
     "name": "stdout",
     "output_type": "stream",
     "text": [
      "Try again\n"
     ]
    },
    {
     "name": "stdin",
     "output_type": "stream",
     "text": [
      "enter your phone number  5\n"
     ]
    },
    {
     "name": "stdout",
     "output_type": "stream",
     "text": [
      "Try again\n"
     ]
    },
    {
     "name": "stdin",
     "output_type": "stream",
     "text": [
      "enter your phone number  4\n"
     ]
    },
    {
     "name": "stdout",
     "output_type": "stream",
     "text": [
      "Try again\n"
     ]
    }
   ],
   "source": [
    "for i in range (0,3):#HERE WE KNOW THE ENDING POINT WHICH IS 3 , Loop WILL BE UNTILL CONDITION SATISFIED\n",
    "    num=input(\"enter your phone number \")\n",
    "    if num.isnumeric() and len(num)==10:\n",
    "        print(\"YOUR NUMBER HAS BEEN REGISTERED \")\n",
    "        break\n",
    "    else:\n",
    "        print(\"Try again\")"
   ]
  },
  {
   "cell_type": "code",
   "execution_count": 133,
   "id": "71ec8b62-d11e-463a-8ed0-7fc5d2e41473",
   "metadata": {},
   "outputs": [
    {
     "name": "stdout",
     "output_type": "stream",
     "text": [
      "55\n"
     ]
    }
   ],
   "source": [
    "# Q2 Write a python program to print the sum and product of the first 10 natural numbers using for and while loop\n",
    "#while loop\n",
    "i=1\n",
    "sum = 0\n",
    "while i <= 10:\n",
    "    sum = i + sum\n",
    "    i=i+1\n",
    "print(sum)"
   ]
  },
  {
   "cell_type": "code",
   "execution_count": 131,
   "id": "e7d7b559-f5a5-44b5-a579-5905a40faa31",
   "metadata": {},
   "outputs": [
    {
     "name": "stdout",
     "output_type": "stream",
     "text": [
      "55\n"
     ]
    }
   ],
   "source": [
    "#for loop\n",
    "sum = 0\n",
    "for i in range (1,11):\n",
    "    sum = sum +i\n",
    "print(sum)"
   ]
  },
  {
   "cell_type": "code",
   "execution_count": 132,
   "id": "3e5323c1-f1dc-4528-b9bd-2fefbb88c5d9",
   "metadata": {},
   "outputs": [
    {
     "name": "stdout",
     "output_type": "stream",
     "text": [
      "3628800\n"
     ]
    }
   ],
   "source": [
    "#while loop\n",
    "i=1\n",
    "product = 1\n",
    "while i <= 10:\n",
    "    product = i * product\n",
    "    i=i+1\n",
    "print(product)"
   ]
  },
  {
   "cell_type": "code",
   "execution_count": 2,
   "id": "0491c170-ff5c-46b4-b242-1d766b40b917",
   "metadata": {},
   "outputs": [
    {
     "name": "stdout",
     "output_type": "stream",
     "text": [
      "3628800\n"
     ]
    }
   ],
   "source": [
    "#for loop\n",
    "product=1\n",
    "for i in range(1,11) :\n",
    "    product = product *i\n",
    "print(product)"
   ]
  },
  {
   "cell_type": "code",
   "execution_count": 128,
   "id": "52c2f790-73b8-4ec5-bdf2-ef674031eb66",
   "metadata": {},
   "outputs": [
    {
     "name": "stdin",
     "output_type": "stream",
     "text": [
      "enter your electric bill 310\n"
     ]
    },
    {
     "name": "stdout",
     "output_type": "stream",
     "text": [
      "cost = 2250\n"
     ]
    }
   ],
   "source": [
    "#Question 3 \n",
    "totalusage=int(input(\"enter your electric bill\"))\n",
    "cost=0\n",
    "if totalusage<=100:\n",
    "    for i in range(1,totalusage+1):\n",
    "        i = i * 4.5\n",
    "        cost = i\n",
    "    print(cost)\n",
    "    \n",
    "elif totalusage>100 and totalusage<=200:\n",
    "    for i in range (1,totalusage-99):\n",
    "        i= i * 6\n",
    "        cost = i \n",
    "    print(cost + 450)\n",
    "elif totalusage>200 and totalusage<=300:\n",
    "    for i in range(1,totalusage-199):\n",
    "        i = i * 10\n",
    "        cost = i\n",
    "    print(cost + 1050)\n",
    "else:\n",
    "    for i in range(1,totalusage-299):\n",
    "        i = i * 20\n",
    "        cost = i\n",
    "    print(\"cost =\",cost + 2050)    "
   ]
  },
  {
   "cell_type": "code",
   "execution_count": 137,
   "id": "1979ac31-3e35-4386-8422-1b3f1f5901f5",
   "metadata": {},
   "outputs": [
    {
     "name": "stdout",
     "output_type": "stream",
     "text": [
      "[8, 64, 125, 216, 512, 1000, 1728, 2744, 3375, 4096, 5832, 8000, 10648, 13824, 15625, 17576, 21952, 27000, 32768, 39304, 42875, 46656, 54872, 64000, 74088, 85184, 91125, 97336, 110592, 125000, 140608, 157464, 166375, 175616, 195112, 216000, 238328, 262144, 274625, 287496, 314432, 343000, 373248, 405224, 421875, 438976, 474552, 512000, 551368, 592704, 614125, 636056, 681472, 729000, 778688, 830584, 857375, 884736, 941192, 1000000]\n"
     ]
    }
   ],
   "source": [
    "#Question 4\n",
    "#for loop\n",
    "list1=[]\n",
    "l1=list(range(1,100+1))\n",
    "for i in l1:\n",
    "    i = i*i*i\n",
    "    if i%4==0 or i%5==0:\n",
    "        list1.append(i)\n",
    "print(list1)\n",
    "\n",
    "    \n",
    "    "
   ]
  },
  {
   "cell_type": "code",
   "execution_count": 127,
   "id": "caaae40a-4aa7-43d9-b6a3-20e6ecea7428",
   "metadata": {},
   "outputs": [
    {
     "name": "stdout",
     "output_type": "stream",
     "text": [
      "[8, 64, 125, 216, 512, 1000, 1728, 2744, 3375, 4096, 5832, 8000, 10648, 13824, 15625, 17576, 21952, 27000, 32768, 39304, 42875, 46656, 54872, 64000, 74088, 85184, 91125, 97336, 110592, 125000, 140608, 157464, 166375, 175616, 195112, 216000, 238328, 262144, 274625, 287496, 314432, 343000, 373248, 405224, 421875, 438976, 474552, 512000, 551368, 592704, 614125, 636056, 681472, 729000, 778688, 830584, 857375, 884736, 941192, 1000000]\n"
     ]
    }
   ],
   "source": [
    "#while loop\n",
    "list1=[]\n",
    "cube=int\n",
    "l1=list(range(1,100+1))\n",
    "i=0\n",
    "while i<len(l1):\n",
    "    i =i+1\n",
    "    cube = i*i*i\n",
    "    if cube%4==0 or cube%5==0:\n",
    "        list1.append(cube)\n",
    "print(list1)"
   ]
  },
  {
   "cell_type": "code",
   "execution_count": 130,
   "id": "3dd2df5e-98fa-4886-8a84-a87a284047c5",
   "metadata": {},
   "outputs": [
    {
     "name": "stdout",
     "output_type": "stream",
     "text": [
      "a\n",
      "o\n",
      "e\n",
      "o\n",
      "e\n",
      "a\n",
      "a\n",
      "a\n",
      "i\n",
      "e\n",
      "i\n",
      "Number of vowels in the given string is:  11\n"
     ]
    }
   ],
   "source": [
    "#Q5\n",
    "vowels = [\"a\", \"e\", \"i\", \"o\", \"u\"]\n",
    "count = 0\n",
    "string=\"I want to become a data scientist\"\n",
    "for i in string:\n",
    "    if i in vowels:\n",
    "        count += 1\n",
    "        print(i)\n",
    "print(\"Number of vowels in the given string is: \", count)"
   ]
  },
  {
   "cell_type": "code",
   "execution_count": null,
   "id": "d3a98bbf-d780-4d7b-b9c9-daf08f694c33",
   "metadata": {},
   "outputs": [],
   "source": []
  },
  {
   "cell_type": "code",
   "execution_count": null,
   "id": "ab295d32-2b04-43f3-99ed-e38762d1399a",
   "metadata": {},
   "outputs": [],
   "source": []
  }
 ],
 "metadata": {
  "kernelspec": {
   "display_name": "Python 3 (ipykernel)",
   "language": "python",
   "name": "python3"
  },
  "language_info": {
   "codemirror_mode": {
    "name": "ipython",
    "version": 3
   },
   "file_extension": ".py",
   "mimetype": "text/x-python",
   "name": "python",
   "nbconvert_exporter": "python",
   "pygments_lexer": "ipython3",
   "version": "3.10.8"
  }
 },
 "nbformat": 4,
 "nbformat_minor": 5
}
